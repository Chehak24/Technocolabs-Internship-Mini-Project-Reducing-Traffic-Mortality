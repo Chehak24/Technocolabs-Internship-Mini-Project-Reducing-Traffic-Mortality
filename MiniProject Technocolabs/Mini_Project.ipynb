{
 "cells": [
  {
   "cell_type": "code",
   "execution_count": 50,
   "id": "656103bd",
   "metadata": {},
   "outputs": [],
   "source": [
    "import numpy as np\n",
    "import pandas as pd\n",
    "import matplotlib.pyplot as plt\n",
    "import seaborn as sns"
   ]
  },
  {
   "cell_type": "code",
   "execution_count": 51,
   "id": "a6a96ecd",
   "metadata": {},
   "outputs": [],
   "source": [
    "df = pd.read_csv(\"./miles-driven.csv\")"
   ]
  },
  {
   "cell_type": "code",
   "execution_count": 52,
   "id": "5c447137",
   "metadata": {},
   "outputs": [
    {
     "data": {
      "text/plain": [
       "<bound method DataFrame.info of                    state  million_miles_annually\n",
       "0                Alabama                   64914\n",
       "1                 Alaska                    4593\n",
       "2                Arizona                   59575\n",
       "3               Arkansas                   32953\n",
       "4             California                  320784\n",
       "5               Colorado                   46606\n",
       "6            Connecticut                   31197\n",
       "7               Delaware                    9028\n",
       "8   District of Columbia                    3568\n",
       "9                Florida                  191855\n",
       "10               Georgia                  108454\n",
       "11                Hawaii                   10066\n",
       "12                 Idaho                   15937\n",
       "13              Illinois                  103234\n",
       "14               Indiana                   76485\n",
       "15                  Iowa                   31274\n",
       "16                Kansas                   30021\n",
       "17              Kentucky                   48061\n",
       "18             Louisiana                   46513\n",
       "19                 Maine                   14248\n",
       "20              Maryland                   56221\n",
       "21         Massachusetts                   54792\n",
       "22              Michigan                   94754\n",
       "23             Minnesota                   56685\n",
       "24           Mississippi                   38851\n",
       "25              Missouri                   68789\n",
       "26               Montana                   11660\n",
       "27              Nebraska                   19093\n",
       "28                Nevada                   24189\n",
       "29         New Hampshire                   12720\n",
       "30            New Jersey                   73094\n",
       "31            New Mexico                   25650\n",
       "32              New York                  127726\n",
       "33        North Carolina                  103772\n",
       "34          North Dakota                    9131\n",
       "35                  Ohio                  111990\n",
       "36              Oklahoma                   47464\n",
       "37                Oregon                   33373\n",
       "38          Pennsylvania                   99204\n",
       "39          Rhode Island                    7901\n",
       "40        South Carolina                   48730\n",
       "41          South Dakota                    9002\n",
       "42             Tennessee                   70751\n",
       "43                 Texas                  237440\n",
       "44                  Utah                   26222\n",
       "45               Vermont                    7141\n",
       "46              Virginia                   80974\n",
       "47            Washington                   56955\n",
       "48         West Virginia                   18963\n",
       "49             Wisconsin                   58554\n",
       "50               Wyoming                    9245>"
      ]
     },
     "execution_count": 52,
     "metadata": {},
     "output_type": "execute_result"
    }
   ],
   "source": [
    "df.info"
   ]
  },
  {
   "cell_type": "code",
   "execution_count": 53,
   "id": "d1e043ce",
   "metadata": {},
   "outputs": [
    {
     "name": "stdout",
     "output_type": "stream",
     "text": [
      "<class 'pandas.core.frame.DataFrame'>\n",
      "RangeIndex: 51 entries, 0 to 50\n",
      "Data columns (total 2 columns):\n",
      " #   Column                  Non-Null Count  Dtype \n",
      "---  ------                  --------------  ----- \n",
      " 0   state                   51 non-null     object\n",
      " 1   million_miles_annually  51 non-null     int64 \n",
      "dtypes: int64(1), object(1)\n",
      "memory usage: 944.0+ bytes\n",
      "None\n"
     ]
    }
   ],
   "source": [
    "print(df.info())"
   ]
  },
  {
   "cell_type": "code",
   "execution_count": 54,
   "id": "933ec96b",
   "metadata": {},
   "outputs": [],
   "source": [
    "df2=pd.read_csv(\"./road-accidents.csv\")"
   ]
  },
  {
   "cell_type": "code",
   "execution_count": 55,
   "id": "35852e46",
   "metadata": {},
   "outputs": [
    {
     "name": "stdout",
     "output_type": "stream",
     "text": [
      "<class 'pandas.core.frame.DataFrame'>\n",
      "RangeIndex: 51 entries, 0 to 50\n",
      "Data columns (total 5 columns):\n",
      " #   Column                Non-Null Count  Dtype  \n",
      "---  ------                --------------  -----  \n",
      " 0   state                 51 non-null     object \n",
      " 1   drvr_fatl_col_bmiles  51 non-null     float64\n",
      " 2   perc_fatl_speed       51 non-null     int64  \n",
      " 3   perc_fatl_alcohol     51 non-null     int64  \n",
      " 4   perc_fatl_1st_time    51 non-null     int64  \n",
      "dtypes: float64(1), int64(3), object(1)\n",
      "memory usage: 2.1+ KB\n"
     ]
    }
   ],
   "source": [
    "df2.info()"
   ]
  },
  {
   "cell_type": "code",
   "execution_count": 56,
   "id": "435c5da5",
   "metadata": {},
   "outputs": [],
   "source": [
    "#can be merged on state "
   ]
  },
  {
   "cell_type": "code",
   "execution_count": null,
   "id": "f23cdce9",
   "metadata": {},
   "outputs": [],
   "source": [
    "#but first lets compute  df and df2 internally"
   ]
  },
  {
   "cell_type": "code",
   "execution_count": 57,
   "id": "44c88f81",
   "metadata": {},
   "outputs": [],
   "source": [
    "import seaborn as sns\n",
    "%matplotlib inline "
   ]
  },
  {
   "cell_type": "code",
   "execution_count": 58,
   "id": "72001948",
   "metadata": {},
   "outputs": [
    {
     "name": "stdout",
     "output_type": "stream",
     "text": [
      "       million_miles_annually\n",
      "count               51.000000\n",
      "mean             57851.019608\n",
      "std              59898.414088\n",
      "min               3568.000000\n",
      "25%              17450.000000\n",
      "50%              46606.000000\n",
      "75%              71922.500000\n",
      "max             320784.000000\n"
     ]
    }
   ],
   "source": [
    "#summary statistics of df\n",
    "sum_stats=df.describe()\n",
    "print(sum_stats)"
   ]
  },
  {
   "cell_type": "code",
   "execution_count": 59,
   "id": "cf3c7d23",
   "metadata": {},
   "outputs": [
    {
     "name": "stdout",
     "output_type": "stream",
     "text": [
      "       drvr_fatl_col_bmiles  perc_fatl_speed  perc_fatl_alcohol  \\\n",
      "count             51.000000        51.000000          51.000000   \n",
      "mean              15.790196        31.725490          30.686275   \n",
      "std                4.122002         9.633438           5.132213   \n",
      "min                5.900000        13.000000          16.000000   \n",
      "25%               12.750000        23.000000          28.000000   \n",
      "50%               15.600000        34.000000          30.000000   \n",
      "75%               18.500000        38.000000          33.000000   \n",
      "max               23.900000        54.000000          44.000000   \n",
      "\n",
      "       perc_fatl_1st_time  \n",
      "count            51.00000  \n",
      "mean             88.72549  \n",
      "std               6.96011  \n",
      "min              76.00000  \n",
      "25%              83.50000  \n",
      "50%              88.00000  \n",
      "75%              95.00000  \n",
      "max             100.00000  \n"
     ]
    }
   ],
   "source": [
    "#summary statistics of df2\n",
    "sum_stats2=df2.describe()\n",
    "print(sum_stats2)"
   ]
  },
  {
   "cell_type": "code",
   "execution_count": 60,
   "id": "df57830e",
   "metadata": {},
   "outputs": [
    {
     "data": {
      "text/plain": [
       "<seaborn.axisgrid.PairGrid at 0x240b08da4c0>"
      ]
     },
     "execution_count": 60,
     "metadata": {},
     "output_type": "execute_result"
    },
    {
     "data": {
      "image/png": "[encoded data removed]",
      "text/plain": [
       "<Figure size 720x720 with 20 Axes>"
      ]
     },
     "metadata": {
      "needs_background": "light"
     },
     "output_type": "display_data"
    }
   ],
   "source": [
    "sns.pairplot(sum_stats2) ##no use of getting the same plot for df "
   ]
  },
  {
   "cell_type": "code",
   "execution_count": null,
   "id": "933cc554",
   "metadata": {},
   "outputs": [],
   "source": [
    "## we can observe that perc of drivers involved in fatal accidents per billion mile due to alcohol are little more than due to speeding"
   ]
  },
  {
   "cell_type": "code",
   "execution_count": 63,
   "id": "70b8641c",
   "metadata": {},
   "outputs": [
    {
     "data": {
      "image/png": "[encoded data removed]",
      "text/plain": [
       "<Figure size 720x432 with 1 Axes>"
      ]
     },
     "metadata": {
      "needs_background": "light"
     },
     "output_type": "display_data"
    }
   ],
   "source": [
    "plt.figure(figsize=(10, 6))  ##testing the obs thru histogram\n",
    "\n",
    "sns.histplot(x='perc_fatl_speed', data=df2, bins=50, kde=True)\n",
    "\n",
    "## title and axis\n",
    "plt.title('Distr. of perc_fatl_speed Dataset', fontsize=15)\n",
    "plt.xlabel('perc_fatl_speed', fontsize=15)\n",
    "plt.ylabel('Frequency', fontsize=15)\n",
    "plt.show()"
   ]
  },
  {
   "cell_type": "code",
   "execution_count": 65,
   "id": "5dbe07ee",
   "metadata": {},
   "outputs": [
    {
     "data": {
      "image/png": "[encoded data removed]",
      "text/plain": [
       "<Figure size 720x432 with 1 Axes>"
      ]
     },
     "metadata": {
      "needs_background": "light"
     },
     "output_type": "display_data"
    }
   ],
   "source": [
    "plt.figure(figsize=(10, 6))   \n",
    "\n",
    "sns.histplot(x='perc_fatl_alcohol', data=df2, bins=50, kde=True)\n",
    "\n",
    "## title and axis\n",
    "plt.title('Distr. of perc_fatl_alcohol Dataset', fontsize=15)\n",
    "plt.xlabel('perc_fatl_alcohol', fontsize=15)\n",
    "plt.ylabel('Frequency', fontsize=15)\n",
    "plt.show()"
   ]
  },
  {
   "cell_type": "code",
   "execution_count": 70,
   "id": "1ada1eb1",
   "metadata": {},
   "outputs": [
    {
     "name": "stderr",
     "output_type": "stream",
     "text": [
      "C:\\Users\\cheha\\anaconda3\\lib\\site-packages\\seaborn\\_decorators.py:36: FutureWarning: Pass the following variables as keyword args: x, y. From version 0.12, the only valid positional argument will be `data`, and passing other arguments without an explicit keyword will result in an error or misinterpretation.\n",
      "  warnings.warn(\n"
     ]
    },
    {
     "data": {
      "text/plain": [
       "<AxesSubplot:xlabel='drvr_fatl_col_bmiles', ylabel='perc_fatl_speed'>"
      ]
     },
     "execution_count": 70,
     "metadata": {},
     "output_type": "execute_result"
    },
    {
     "data": {
      "image/png": "[encoded data removed]",
      "text/plain": [
       "<Figure size 432x288 with 1 Axes>"
      ]
     },
     "metadata": {
      "needs_background": "light"
     },
     "output_type": "display_data"
    }
   ],
   "source": [
    "sns.scatterplot(df2['drvr_fatl_col_bmiles'],df2['perc_fatl_speed'])"
   ]
  },
  {
   "cell_type": "code",
   "execution_count": 71,
   "id": "330e8a52",
   "metadata": {},
   "outputs": [
    {
     "name": "stderr",
     "output_type": "stream",
     "text": [
      "C:\\Users\\cheha\\anaconda3\\lib\\site-packages\\seaborn\\_decorators.py:36: FutureWarning: Pass the following variables as keyword args: x, y. From version 0.12, the only valid positional argument will be `data`, and passing other arguments without an explicit keyword will result in an error or misinterpretation.\n",
      "  warnings.warn(\n"
     ]
    },
    {
     "data": {
      "text/plain": [
       "<AxesSubplot:xlabel='drvr_fatl_col_bmiles', ylabel='perc_fatl_alcohol'>"
      ]
     },
     "execution_count": 71,
     "metadata": {},
     "output_type": "execute_result"
    },
    {
     "data": {
      "image/png": "[encoded data removed]",
      "text/plain": [
       "<Figure size 432x288 with 1 Axes>"
      ]
     },
     "metadata": {
      "needs_background": "light"
     },
     "output_type": "display_data"
    }
   ],
   "source": [
    "sns.scatterplot(df2['drvr_fatl_col_bmiles'],df2['perc_fatl_alcohol'])"
   ]
  },
  {
   "cell_type": "code",
   "execution_count": null,
   "id": "7c5f885a",
   "metadata": {},
   "outputs": [],
   "source": [
    "##observation true"
   ]
  },
  {
   "cell_type": "code",
   "execution_count": null,
   "id": "2abb950a",
   "metadata": {},
   "outputs": [],
   "source": [
    "## checking for correlations bw the columns in df2"
   ]
  },
  {
   "cell_type": "code",
   "execution_count": 66,
   "id": "878ccb6b",
   "metadata": {},
   "outputs": [],
   "source": [
    "corr_columns=df2.corr()"
   ]
  },
  {
   "cell_type": "code",
   "execution_count": 67,
   "id": "e718e8bf",
   "metadata": {},
   "outputs": [
    {
     "data": {
      "text/html": [
       "<div>\n",
       "<style scoped>\n",
       "    .dataframe tbody tr th:only-of-type {\n",
       "        vertical-align: middle;\n",
       "    }\n",
       "\n",
       "    .dataframe tbody tr th {\n",
       "        vertical-align: top;\n",
       "    }\n",
       "\n",
       "    .dataframe thead th {\n",
       "        text-align: right;\n",
       "    }\n",
       "</style>\n",
       "<table border=\"1\" class=\"dataframe\">\n",
       "  <thead>\n",
       "    <tr style=\"text-align: right;\">\n",
       "      <th></th>\n",
       "      <th>drvr_fatl_col_bmiles</th>\n",
       "      <th>perc_fatl_speed</th>\n",
       "      <th>perc_fatl_alcohol</th>\n",
       "      <th>perc_fatl_1st_time</th>\n",
       "    </tr>\n",
       "  </thead>\n",
       "  <tbody>\n",
       "    <tr>\n",
       "      <th>drvr_fatl_col_bmiles</th>\n",
       "      <td>1.000000</td>\n",
       "      <td>-0.029080</td>\n",
       "      <td>0.199426</td>\n",
       "      <td>-0.017942</td>\n",
       "    </tr>\n",
       "    <tr>\n",
       "      <th>perc_fatl_speed</th>\n",
       "      <td>-0.029080</td>\n",
       "      <td>1.000000</td>\n",
       "      <td>0.286244</td>\n",
       "      <td>0.014066</td>\n",
       "    </tr>\n",
       "    <tr>\n",
       "      <th>perc_fatl_alcohol</th>\n",
       "      <td>0.199426</td>\n",
       "      <td>0.286244</td>\n",
       "      <td>1.000000</td>\n",
       "      <td>-0.245455</td>\n",
       "    </tr>\n",
       "    <tr>\n",
       "      <th>perc_fatl_1st_time</th>\n",
       "      <td>-0.017942</td>\n",
       "      <td>0.014066</td>\n",
       "      <td>-0.245455</td>\n",
       "      <td>1.000000</td>\n",
       "    </tr>\n",
       "  </tbody>\n",
       "</table>\n",
       "</div>"
      ],
      "text/plain": [
       "                      drvr_fatl_col_bmiles  perc_fatl_speed  \\\n",
       "drvr_fatl_col_bmiles              1.000000        -0.029080   \n",
       "perc_fatl_speed                  -0.029080         1.000000   \n",
       "perc_fatl_alcohol                 0.199426         0.286244   \n",
       "perc_fatl_1st_time               -0.017942         0.014066   \n",
       "\n",
       "                      perc_fatl_alcohol  perc_fatl_1st_time  \n",
       "drvr_fatl_col_bmiles           0.199426           -0.017942  \n",
       "perc_fatl_speed                0.286244            0.014066  \n",
       "perc_fatl_alcohol              1.000000           -0.245455  \n",
       "perc_fatl_1st_time            -0.245455            1.000000  "
      ]
     },
     "execution_count": 67,
     "metadata": {},
     "output_type": "execute_result"
    }
   ],
   "source": [
    "corr_columns\n",
    "#0.2 = weak\n",
    "#0.5 = medium\n",
    "#0.8 = strong\n",
    "#0.9 = very strong"
   ]
  },
  {
   "cell_type": "code",
   "execution_count": 73,
   "id": "ed339100",
   "metadata": {},
   "outputs": [
    {
     "data": {
      "text/plain": [
       "array([-0.04180041,  0.19086404,  0.02473301])"
      ]
     },
     "execution_count": 73,
     "metadata": {},
     "output_type": "execute_result"
    }
   ],
   "source": [
    "# Importing the linear model \n",
    "from sklearn import linear_model\n",
    "\n",
    "# Create the features and target DataFrames\n",
    "features = df2[['perc_fatl_speed', 'perc_fatl_alcohol', 'perc_fatl_1st_time']]\n",
    "target = df2['drvr_fatl_col_bmiles']\n",
    "\n",
    "\n",
    "reg = linear_model.LinearRegression() # Creating a linear regression object\n",
    "\n",
    "\n",
    "reg.fit(features, target)\n",
    "# fitting a multivariate linear regression model\n",
    "\n",
    "fit_coef = reg.coef_ # retrieving the regression coefficients\n",
    "\n",
    "fit_coef"
   ]
  },
  {
   "cell_type": "code",
   "execution_count": 74,
   "id": "6d77e12a",
   "metadata": {},
   "outputs": [],
   "source": [
    "from sklearn.preprocessing import StandardScaler\n",
    "scaler = StandardScaler()\n",
    "features_scaled = scaler.fit_transform(features) ##standardizing the feature column"
   ]
  },
  {
   "cell_type": "code",
   "execution_count": 91,
   "id": "672837b2",
   "metadata": {},
   "outputs": [],
   "source": [
    "from sklearn.decomposition import PCA\n",
    "pca = PCA() #Import the PCA class function from sklearn"
   ]
  },
  {
   "cell_type": "code",
   "execution_count": 92,
   "id": "20eb6273",
   "metadata": {},
   "outputs": [
    {
     "data": {
      "text/plain": [
       "PCA()"
      ]
     },
     "execution_count": 92,
     "metadata": {},
     "output_type": "execute_result"
    }
   ],
   "source": [
    "pca.fit(features_scaled)"
   ]
  },
  {
   "cell_type": "code",
   "execution_count": 93,
   "id": "2df417ed",
   "metadata": {},
   "outputs": [
    {
     "name": "stdout",
     "output_type": "stream",
     "text": [
      "[[ 0.53455662  0.71358084 -0.45282624]\n",
      " [-0.65077841  0.00570541 -0.75924627]\n",
      " [ 0.53920003 -0.70054967 -0.46743287]]\n"
     ]
    }
   ],
   "source": [
    "print(pca.components_)"
   ]
  },
  {
   "cell_type": "code",
   "execution_count": 94,
   "id": "2d181bec",
   "metadata": {},
   "outputs": [
    {
     "name": "stdout",
     "output_type": "stream",
     "text": [
      "[1.39759626 1.0341792  0.62822455]\n"
     ]
    }
   ],
   "source": [
    "print(pca.explained_variance_)"
   ]
  },
  {
   "cell_type": "code",
   "execution_count": 80,
   "id": "c67c5d28",
   "metadata": {},
   "outputs": [
    {
     "ename": "ValueError",
     "evalue": "too many values to unpack (expected 2)",
     "output_type": "error",
     "traceback": [
      "\u001b[1;31m---------------------------------------------------------------------------\u001b[0m",
      "\u001b[1;31mValueError\u001b[0m                                Traceback (most recent call last)",
      "\u001b[1;32m<ipython-input-80-2f222540e454>\u001b[0m in \u001b[0;36m<module>\u001b[1;34m\u001b[0m\n\u001b[0;32m     11\u001b[0m \u001b[1;32mfor\u001b[0m \u001b[0mlength\u001b[0m\u001b[1;33m,\u001b[0m \u001b[0mvector\u001b[0m \u001b[1;32min\u001b[0m \u001b[0mzip\u001b[0m\u001b[1;33m(\u001b[0m\u001b[0mpca\u001b[0m\u001b[1;33m.\u001b[0m\u001b[0mexplained_variance_\u001b[0m\u001b[1;33m,\u001b[0m \u001b[0mpca\u001b[0m\u001b[1;33m.\u001b[0m\u001b[0mcomponents_\u001b[0m\u001b[1;33m)\u001b[0m\u001b[1;33m:\u001b[0m\u001b[1;33m\u001b[0m\u001b[1;33m\u001b[0m\u001b[0m\n\u001b[0;32m     12\u001b[0m     \u001b[0mv\u001b[0m \u001b[1;33m=\u001b[0m \u001b[0mvector\u001b[0m \u001b[1;33m*\u001b[0m \u001b[1;36m3\u001b[0m \u001b[1;33m*\u001b[0m \u001b[0mnp\u001b[0m\u001b[1;33m.\u001b[0m\u001b[0msqrt\u001b[0m\u001b[1;33m(\u001b[0m\u001b[0mlength\u001b[0m\u001b[1;33m)\u001b[0m\u001b[1;33m\u001b[0m\u001b[1;33m\u001b[0m\u001b[0m\n\u001b[1;32m---> 13\u001b[1;33m     \u001b[0mdraw_vector\u001b[0m\u001b[1;33m(\u001b[0m\u001b[0mpca\u001b[0m\u001b[1;33m.\u001b[0m\u001b[0mmean_\u001b[0m\u001b[1;33m,\u001b[0m \u001b[0mpca\u001b[0m\u001b[1;33m.\u001b[0m\u001b[0mmean_\u001b[0m \u001b[1;33m+\u001b[0m \u001b[0mv\u001b[0m\u001b[1;33m)\u001b[0m\u001b[1;33m\u001b[0m\u001b[1;33m\u001b[0m\u001b[0m\n\u001b[0m\u001b[0;32m     14\u001b[0m \u001b[0mplt\u001b[0m\u001b[1;33m.\u001b[0m\u001b[0maxis\u001b[0m\u001b[1;33m(\u001b[0m\u001b[1;34m'equal'\u001b[0m\u001b[1;33m)\u001b[0m\u001b[1;33m;\u001b[0m\u001b[1;33m\u001b[0m\u001b[1;33m\u001b[0m\u001b[0m\n",
      "\u001b[1;32m<ipython-input-80-2f222540e454>\u001b[0m in \u001b[0;36mdraw_vector\u001b[1;34m(v0, v1, ax)\u001b[0m\n\u001b[0;32m      5\u001b[0m                     \u001b[0mlinewidth\u001b[0m\u001b[1;33m=\u001b[0m\u001b[1;36m2\u001b[0m\u001b[1;33m,\u001b[0m\u001b[1;33m\u001b[0m\u001b[1;33m\u001b[0m\u001b[0m\n\u001b[0;32m      6\u001b[0m                     shrinkA=0, shrinkB=0)\n\u001b[1;32m----> 7\u001b[1;33m     \u001b[0max\u001b[0m\u001b[1;33m.\u001b[0m\u001b[0mannotate\u001b[0m\u001b[1;33m(\u001b[0m\u001b[1;34m''\u001b[0m\u001b[1;33m,\u001b[0m \u001b[0mv1\u001b[0m\u001b[1;33m,\u001b[0m \u001b[0mv0\u001b[0m\u001b[1;33m,\u001b[0m \u001b[0marrowprops\u001b[0m\u001b[1;33m=\u001b[0m\u001b[0marrowprops\u001b[0m\u001b[1;33m)\u001b[0m\u001b[1;33m\u001b[0m\u001b[1;33m\u001b[0m\u001b[0m\n\u001b[0m\u001b[0;32m      8\u001b[0m \u001b[1;33m\u001b[0m\u001b[0m\n\u001b[0;32m      9\u001b[0m \u001b[1;31m# plot data\u001b[0m\u001b[1;33m\u001b[0m\u001b[1;33m\u001b[0m\u001b[1;33m\u001b[0m\u001b[0m\n",
      "\u001b[1;32m~\\anaconda3\\lib\\site-packages\\matplotlib\\cbook\\deprecation.py\u001b[0m in \u001b[0;36mwrapper\u001b[1;34m(*args, **kwargs)\u001b[0m\n\u001b[0;32m    313\u001b[0m                 f\"for the old name will be dropped %(removal)s.\")\n\u001b[0;32m    314\u001b[0m             \u001b[0mkwargs\u001b[0m\u001b[1;33m[\u001b[0m\u001b[0mnew\u001b[0m\u001b[1;33m]\u001b[0m \u001b[1;33m=\u001b[0m \u001b[0mkwargs\u001b[0m\u001b[1;33m.\u001b[0m\u001b[0mpop\u001b[0m\u001b[1;33m(\u001b[0m\u001b[0mold\u001b[0m\u001b[1;33m)\u001b[0m\u001b[1;33m\u001b[0m\u001b[1;33m\u001b[0m\u001b[0m\n\u001b[1;32m--> 315\u001b[1;33m         \u001b[1;32mreturn\u001b[0m \u001b[0mfunc\u001b[0m\u001b[1;33m(\u001b[0m\u001b[1;33m*\u001b[0m\u001b[0margs\u001b[0m\u001b[1;33m,\u001b[0m \u001b[1;33m**\u001b[0m\u001b[0mkwargs\u001b[0m\u001b[1;33m)\u001b[0m\u001b[1;33m\u001b[0m\u001b[1;33m\u001b[0m\u001b[0m\n\u001b[0m\u001b[0;32m    316\u001b[0m \u001b[1;33m\u001b[0m\u001b[0m\n\u001b[0;32m    317\u001b[0m     \u001b[1;31m# wrapper() must keep the same documented signature as func(): if we\u001b[0m\u001b[1;33m\u001b[0m\u001b[1;33m\u001b[0m\u001b[1;33m\u001b[0m\u001b[0m\n",
      "\u001b[1;32m~\\anaconda3\\lib\\site-packages\\matplotlib\\axes\\_axes.py\u001b[0m in \u001b[0;36mannotate\u001b[1;34m(self, text, xy, *args, **kwargs)\u001b[0m\n\u001b[0;32m    771\u001b[0m     \u001b[1;33m@\u001b[0m\u001b[0mdocstring\u001b[0m\u001b[1;33m.\u001b[0m\u001b[0mdedent_interpd\u001b[0m\u001b[1;33m\u001b[0m\u001b[1;33m\u001b[0m\u001b[0m\n\u001b[0;32m    772\u001b[0m     \u001b[1;32mdef\u001b[0m \u001b[0mannotate\u001b[0m\u001b[1;33m(\u001b[0m\u001b[0mself\u001b[0m\u001b[1;33m,\u001b[0m \u001b[0mtext\u001b[0m\u001b[1;33m,\u001b[0m \u001b[0mxy\u001b[0m\u001b[1;33m,\u001b[0m \u001b[1;33m*\u001b[0m\u001b[0margs\u001b[0m\u001b[1;33m,\u001b[0m \u001b[1;33m**\u001b[0m\u001b[0mkwargs\u001b[0m\u001b[1;33m)\u001b[0m\u001b[1;33m:\u001b[0m\u001b[1;33m\u001b[0m\u001b[1;33m\u001b[0m\u001b[0m\n\u001b[1;32m--> 773\u001b[1;33m         \u001b[0ma\u001b[0m \u001b[1;33m=\u001b[0m \u001b[0mmtext\u001b[0m\u001b[1;33m.\u001b[0m\u001b[0mAnnotation\u001b[0m\u001b[1;33m(\u001b[0m\u001b[0mtext\u001b[0m\u001b[1;33m,\u001b[0m \u001b[0mxy\u001b[0m\u001b[1;33m,\u001b[0m \u001b[1;33m*\u001b[0m\u001b[0margs\u001b[0m\u001b[1;33m,\u001b[0m \u001b[1;33m**\u001b[0m\u001b[0mkwargs\u001b[0m\u001b[1;33m)\u001b[0m\u001b[1;33m\u001b[0m\u001b[1;33m\u001b[0m\u001b[0m\n\u001b[0m\u001b[0;32m    774\u001b[0m         \u001b[0ma\u001b[0m\u001b[1;33m.\u001b[0m\u001b[0mset_transform\u001b[0m\u001b[1;33m(\u001b[0m\u001b[0mmtransforms\u001b[0m\u001b[1;33m.\u001b[0m\u001b[0mIdentityTransform\u001b[0m\u001b[1;33m(\u001b[0m\u001b[1;33m)\u001b[0m\u001b[1;33m)\u001b[0m\u001b[1;33m\u001b[0m\u001b[1;33m\u001b[0m\u001b[0m\n\u001b[0;32m    775\u001b[0m         \u001b[1;32mif\u001b[0m \u001b[1;34m'clip_on'\u001b[0m \u001b[1;32min\u001b[0m \u001b[0mkwargs\u001b[0m\u001b[1;33m:\u001b[0m\u001b[1;33m\u001b[0m\u001b[1;33m\u001b[0m\u001b[0m\n",
      "\u001b[1;32m~\\anaconda3\\lib\\site-packages\\matplotlib\\text.py\u001b[0m in \u001b[0;36m__init__\u001b[1;34m(self, text, xy, xytext, xycoords, textcoords, arrowprops, annotation_clip, **kwargs)\u001b[0m\n\u001b[0;32m   1727\u001b[0m         \u001b[1;32mif\u001b[0m \u001b[0mxytext\u001b[0m \u001b[1;32mis\u001b[0m \u001b[1;32mNone\u001b[0m\u001b[1;33m:\u001b[0m\u001b[1;33m\u001b[0m\u001b[1;33m\u001b[0m\u001b[0m\n\u001b[0;32m   1728\u001b[0m             \u001b[0mxytext\u001b[0m \u001b[1;33m=\u001b[0m \u001b[0mself\u001b[0m\u001b[1;33m.\u001b[0m\u001b[0mxy\u001b[0m\u001b[1;33m\u001b[0m\u001b[1;33m\u001b[0m\u001b[0m\n\u001b[1;32m-> 1729\u001b[1;33m         \u001b[0mx\u001b[0m\u001b[1;33m,\u001b[0m \u001b[0my\u001b[0m \u001b[1;33m=\u001b[0m \u001b[0mxytext\u001b[0m\u001b[1;33m\u001b[0m\u001b[1;33m\u001b[0m\u001b[0m\n\u001b[0m\u001b[0;32m   1730\u001b[0m \u001b[1;33m\u001b[0m\u001b[0m\n\u001b[0;32m   1731\u001b[0m         \u001b[0mself\u001b[0m\u001b[1;33m.\u001b[0m\u001b[0marrowprops\u001b[0m \u001b[1;33m=\u001b[0m \u001b[0marrowprops\u001b[0m\u001b[1;33m\u001b[0m\u001b[1;33m\u001b[0m\u001b[0m\n",
      "\u001b[1;31mValueError\u001b[0m: too many values to unpack (expected 2)"
     ]
    },
    {
     "data": {
      "image/png": "[encoded data removed]",
      "text/plain": [
       "<Figure size 432x288 with 1 Axes>"
      ]
     },
     "metadata": {
      "needs_background": "light"
     },
     "output_type": "display_data"
    }
   ],
   "source": [
    "## understanding the components and their importance thru vector length of variance\n",
    "def draw_vector(v0, v1, ax=None):\n",
    "    ax = ax or plt.gca()\n",
    "    arrowprops=dict(arrowstyle='->',\n",
    "                    linewidth=2,\n",
    "                    shrinkA=0, shrinkB=0)\n",
    "    ax.annotate('', v1, v0, arrowprops=arrowprops)\n",
    "\n",
    "# plot data\n",
    "plt.scatter(features_scaled[:, 0], features_scaled[:, 1], alpha=0.2)\n",
    "for length, vector in zip(pca.explained_variance_, pca.components_):\n",
    "    v = vector * 3 * np.sqrt(length)\n",
    "    draw_vector(pca.mean_, pca.mean_ + v)\n",
    "plt.axis('equal');"
   ]
  },
  {
   "cell_type": "code",
   "execution_count": 95,
   "id": "01fc5a5e",
   "metadata": {},
   "outputs": [
    {
     "data": {
      "text/plain": [
       "([<matplotlib.axis.XTick at 0x240b21b6e20>,\n",
       "  <matplotlib.axis.XTick at 0x240b21b6190>,\n",
       "  <matplotlib.axis.XTick at 0x240b2633580>],\n",
       " [Text(0, 0, ''), Text(0, 0, ''), Text(0, 0, '')])"
      ]
     },
     "execution_count": 95,
     "metadata": {},
     "output_type": "execute_result"
    },
    {
     "data": {
      "image/png": "[encoded data removed]",
      "text/plain": [
       "<Figure size 432x288 with 1 Axes>"
      ]
     },
     "metadata": {
      "needs_background": "light"
     },
     "output_type": "display_data"
    }
   ],
   "source": [
    "## trying other way\n",
    "import matplotlib.pyplot as plt\n",
    "plt.bar(range(1, pca.n_components_ + 1),  pca.explained_variance_ratio_) #proportion of variance explained on the y-axis of the bar plot\n",
    "plt.xlabel('Principal component #')\n",
    "plt.ylabel('Proportion of variance explained')\n",
    "plt.xticks([1, 2, 3])"
   ]
  },
  {
   "cell_type": "code",
   "execution_count": 97,
   "id": "d6fa92e9",
   "metadata": {},
   "outputs": [
    {
     "name": "stdout",
     "output_type": "stream",
     "text": [
      "[0.4567308  0.33796706 0.20530214]\n"
     ]
    }
   ],
   "source": [
    "print(pca.explained_variance_ratio_)"
   ]
  },
  {
   "cell_type": "code",
   "execution_count": 96,
   "id": "0be0a678",
   "metadata": {},
   "outputs": [
    {
     "name": "stdout",
     "output_type": "stream",
     "text": [
      "The cumulative variance of the first two principal components is 0.7947\n"
     ]
    }
   ],
   "source": [
    "#Compute the cumulative proportion of variance explained by the first two principal components\n",
    "two_first_comp_var_exp = pca.explained_variance_ratio_[0].cumsum()[0] + pca.explained_variance_ratio_[1].cumsum()[0]\n",
    "print(\"The cumulative variance of the first two principal components is {}\".format(\n",
    "    round(two_first_comp_var_exp, 5)))"
   ]
  },
  {
   "cell_type": "code",
   "execution_count": null,
   "id": "4f21f081",
   "metadata": {},
   "outputs": [],
   "source": [
    "#transforming the scaled features using two principal components"
   ]
  },
  {
   "cell_type": "code",
   "execution_count": 98,
   "id": "29417a01",
   "metadata": {},
   "outputs": [],
   "source": [
    "pca=PCA(n_components=2) ##taking top 2 components"
   ]
  },
  {
   "cell_type": "code",
   "execution_count": 99,
   "id": "876e7914",
   "metadata": {},
   "outputs": [],
   "source": [
    "p_comps = pca.fit_transform(features_scaled)"
   ]
  },
  {
   "cell_type": "code",
   "execution_count": 100,
   "id": "b4e6fcac",
   "metadata": {},
   "outputs": [
    {
     "data": {
      "text/plain": [
       "<matplotlib.collections.PathCollection at 0x240b206e790>"
      ]
     },
     "execution_count": 100,
     "metadata": {},
     "output_type": "execute_result"
    },
    {
     "data": {
      "image/png": "[encoded data removed]",
      "text/plain": [
       "<Figure size 432x288 with 1 Axes>"
      ]
     },
     "metadata": {
      "needs_background": "light"
     },
     "output_type": "display_data"
    }
   ],
   "source": [
    "p_comp1 = p_comps[:, 0]\n",
    "p_comp2 = p_comps[:, 1]\n",
    "\n",
    "# Plot the first two principal components in a scatter plot\n",
    "plt.scatter(p_comp1, p_comp2)"
   ]
  },
  {
   "cell_type": "code",
   "execution_count": 101,
   "id": "2c731b23",
   "metadata": {},
   "outputs": [
    {
     "name": "stdout",
     "output_type": "stream",
     "text": [
      "[ 0.88463912 -0.62529903 -0.67169596 -1.83954608 -0.21174283 -0.49390467\n",
      "  1.98805561 -0.41984695 -1.13099129 -1.18444358 -1.79251216  2.80996806\n",
      " -0.60664618  0.2268846  -1.02598376 -1.51035032 -0.95893975 -0.95632936\n",
      " -0.10099555  0.56576691 -0.36316811  0.6900851  -0.03971211 -0.67811433\n",
      " -1.63409399  1.40766864  2.52202483 -0.52740931 -0.19504256  0.46334895\n",
      " -0.5537545  -1.84020388  0.35192305  0.95935465  1.27880139  0.69845606\n",
      " -0.56798322 -0.67038036  1.11586188  1.79352241  2.30754399  0.46332813\n",
      " -0.3302449   1.60411279 -1.90843858 -0.60535139 -1.18312797  1.07978849\n",
      " -0.1363695   0.87495256  0.67653501]\n"
     ]
    }
   ],
   "source": [
    "print(p_comp1)"
   ]
  },
  {
   "cell_type": "code",
   "execution_count": 103,
   "id": "6239125e",
   "metadata": {},
   "outputs": [
    {
     "name": "stderr",
     "output_type": "stream",
     "text": [
      "C:\\Users\\cheha\\anaconda3\\lib\\site-packages\\sklearn\\cluster\\_kmeans.py:881: UserWarning: KMeans is known to have a memory leak on Windows with MKL, when there are less chunks than available threads. You can avoid it by setting the environment variable OMP_NUM_THREADS=1.\n",
      "  warnings.warn(\n"
     ]
    },
    {
     "name": "stdout",
     "output_type": "stream",
     "text": [
      "[152.99999999999994, 101.59081556315157, 72.39839077808162, 57.80472652795008, 46.10580914149266, 40.08628172516375, 33.476812943257585, 29.568317670408543, 26.70102655251705]\n"
     ]
    },
    {
     "data": {
      "image/png": "[encoded data removed]",
      "text/plain": [
       "<Figure size 432x288 with 1 Axes>"
      ]
     },
     "metadata": {
      "needs_background": "light"
     },
     "output_type": "display_data"
    }
   ],
   "source": [
    "from sklearn.cluster import KMeans\n",
    "\n",
    "\n",
    "ks = range(1, 10) # Using a loop to plot the explanatory power for up to 10 KMeans clusters\n",
    "inertias = []\n",
    "for k in ks:\n",
    "   \n",
    "    km = KMeans(n_clusters=k, random_state=98)  # Initializing KMeans object using the current number of clusters (k)\n",
    "  \n",
    "    km.fit(features_scaled)   # Fitting the scaled features to the KMeans object\n",
    "   \n",
    "    inertias.append(km.inertia_ )  #appending the inertia for 'km' to the list of inertias\n",
    "    \n",
    "# Plot the results in a line plot\n",
    "plt.plot(ks, inertias, marker='o')\n",
    "print(inertias)"
   ]
  },
  {
   "cell_type": "code",
   "execution_count": 104,
   "id": "ade75cd8",
   "metadata": {},
   "outputs": [],
   "source": [
    "# creating a KMeans object with 3 clusters, use random_state=98 \n",
    "km = KMeans(n_clusters = 3, random_state = 98)"
   ]
  },
  {
   "cell_type": "code",
   "execution_count": 105,
   "id": "06930611",
   "metadata": {},
   "outputs": [
    {
     "data": {
      "text/plain": [
       "KMeans(n_clusters=3, random_state=98)"
      ]
     },
     "execution_count": 105,
     "metadata": {},
     "output_type": "execute_result"
    }
   ],
   "source": [
    "km.fit(features_scaled)\n",
    "# Fit the data to the `km` object"
   ]
  },
  {
   "cell_type": "code",
   "execution_count": 106,
   "id": "4cf0aaf2",
   "metadata": {},
   "outputs": [
    {
     "data": {
      "text/plain": [
       "<matplotlib.collections.PathCollection at 0x240b3b23340>"
      ]
     },
     "execution_count": 106,
     "metadata": {},
     "output_type": "execute_result"
    },
    {
     "data": {
      "image/png": "[encoded data removed]",
      "text/plain": [
       "<Figure size 432x288 with 1 Axes>"
      ]
     },
     "metadata": {
      "needs_background": "light"
     },
     "output_type": "display_data"
    }
   ],
   "source": [
    "plt.scatter(p_comps[:, 0], p_comps[:, 1], c = km.labels_)\n",
    "# Creating a scatter plot of the first two principal components\n",
    "# coloring it according to the KMeans cluster assignment "
   ]
  },
  {
   "cell_type": "code",
   "execution_count": 107,
   "id": "5472eede",
   "metadata": {},
   "outputs": [],
   "source": [
    "df2['cluster_column']=km.labels_\n",
    "#creating a new column for the labels"
   ]
  },
  {
   "cell_type": "code",
   "execution_count": 120,
   "id": "52ceeee1",
   "metadata": {},
   "outputs": [],
   "source": [
    "melt_df2 = pd.melt(df2, id_vars = ['cluster_column'], value_name = 'percent' , var_name ='measurement', \n",
    "                                                   value_vars =[ 'perc_fatl_alcohol','perc_fatl_speed', 'perc_fatl_1st_time'])\n",
    "\n",
    "# reshaping the dataFrame to the long format"
   ]
  },
  {
   "cell_type": "code",
   "execution_count": 121,
   "id": "77e8ab21",
   "metadata": {},
   "outputs": [
    {
     "name": "stderr",
     "output_type": "stream",
     "text": [
      "C:\\Users\\cheha\\anaconda3\\lib\\site-packages\\seaborn\\_decorators.py:36: FutureWarning: Pass the following variables as keyword args: x, y. From version 0.12, the only valid positional argument will be `data`, and passing other arguments without an explicit keyword will result in an error or misinterpretation.\n",
      "  warnings.warn(\n"
     ]
    },
    {
     "data": {
      "text/plain": [
       "<AxesSubplot:xlabel='percent', ylabel='measurement'>"
      ]
     },
     "execution_count": 121,
     "metadata": {},
     "output_type": "execute_result"
    },
    {
     "data": {
      "image/png": "[encoded data removed]",
      "text/plain": [
       "<Figure size 432x288 with 1 Axes>"
      ]
     },
     "metadata": {
      "needs_background": "light"
     },
     "output_type": "display_data"
    }
   ],
   "source": [
    "sns.violinplot(melt_df2['percent'], melt_df2['measurement'], hue = melt_df2['cluster_column'])\n",
    "# Creating a violin plot splitting and coloring the results according to the km-clusters"
   ]
  },
  {
   "cell_type": "code",
   "execution_count": 114,
   "id": "965a6478",
   "metadata": {},
   "outputs": [],
   "source": [
    "## merging the two files"
   ]
  },
  {
   "cell_type": "code",
   "execution_count": 122,
   "id": "8b325244",
   "metadata": {},
   "outputs": [],
   "source": [
    "merged = df2.merge(df,on ='state')"
   ]
  },
  {
   "cell_type": "code",
   "execution_count": 123,
   "id": "1d9645c9",
   "metadata": {},
   "outputs": [],
   "source": [
    "merged ['num_drivers_fatl_column']=(merged['drvr_fatl_col_bmiles'] * merged['million_miles_annually']) / 1000\n",
    "## creating a new column for the number of drivers involved in fatal accidents"
   ]
  },
  {
   "cell_type": "code",
   "execution_count": 124,
   "id": "1e21234a",
   "metadata": {},
   "outputs": [
    {
     "data": {
      "text/html": [
       "<div>\n",
       "<style scoped>\n",
       "    .dataframe tbody tr th:only-of-type {\n",
       "        vertical-align: middle;\n",
       "    }\n",
       "\n",
       "    .dataframe tbody tr th {\n",
       "        vertical-align: top;\n",
       "    }\n",
       "\n",
       "    .dataframe thead th {\n",
       "        text-align: right;\n",
       "    }\n",
       "</style>\n",
       "<table border=\"1\" class=\"dataframe\">\n",
       "  <thead>\n",
       "    <tr style=\"text-align: right;\">\n",
       "      <th></th>\n",
       "      <th>state</th>\n",
       "      <th>drvr_fatl_col_bmiles</th>\n",
       "      <th>perc_fatl_speed</th>\n",
       "      <th>perc_fatl_alcohol</th>\n",
       "      <th>perc_fatl_1st_time</th>\n",
       "      <th>cluster_column</th>\n",
       "      <th>million_miles_annually</th>\n",
       "      <th>num_drivers_fatl_column</th>\n",
       "    </tr>\n",
       "  </thead>\n",
       "  <tbody>\n",
       "    <tr>\n",
       "      <th>0</th>\n",
       "      <td>Alabama</td>\n",
       "      <td>18.8</td>\n",
       "      <td>39</td>\n",
       "      <td>30</td>\n",
       "      <td>80</td>\n",
       "      <td>2</td>\n",
       "      <td>64914</td>\n",
       "      <td>1220.3832</td>\n",
       "    </tr>\n",
       "    <tr>\n",
       "      <th>1</th>\n",
       "      <td>Alaska</td>\n",
       "      <td>18.1</td>\n",
       "      <td>41</td>\n",
       "      <td>25</td>\n",
       "      <td>94</td>\n",
       "      <td>0</td>\n",
       "      <td>4593</td>\n",
       "      <td>83.1333</td>\n",
       "    </tr>\n",
       "    <tr>\n",
       "      <th>2</th>\n",
       "      <td>Arizona</td>\n",
       "      <td>18.6</td>\n",
       "      <td>35</td>\n",
       "      <td>28</td>\n",
       "      <td>96</td>\n",
       "      <td>0</td>\n",
       "      <td>59575</td>\n",
       "      <td>1108.0950</td>\n",
       "    </tr>\n",
       "    <tr>\n",
       "      <th>3</th>\n",
       "      <td>Arkansas</td>\n",
       "      <td>22.4</td>\n",
       "      <td>18</td>\n",
       "      <td>26</td>\n",
       "      <td>95</td>\n",
       "      <td>0</td>\n",
       "      <td>32953</td>\n",
       "      <td>738.1472</td>\n",
       "    </tr>\n",
       "    <tr>\n",
       "      <th>4</th>\n",
       "      <td>California</td>\n",
       "      <td>12.0</td>\n",
       "      <td>35</td>\n",
       "      <td>28</td>\n",
       "      <td>89</td>\n",
       "      <td>0</td>\n",
       "      <td>320784</td>\n",
       "      <td>3849.4080</td>\n",
       "    </tr>\n",
       "  </tbody>\n",
       "</table>\n",
       "</div>"
      ],
      "text/plain": [
       "        state  drvr_fatl_col_bmiles  perc_fatl_speed  perc_fatl_alcohol  \\\n",
       "0     Alabama                  18.8               39                 30   \n",
       "1      Alaska                  18.1               41                 25   \n",
       "2     Arizona                  18.6               35                 28   \n",
       "3    Arkansas                  22.4               18                 26   \n",
       "4  California                  12.0               35                 28   \n",
       "\n",
       "   perc_fatl_1st_time  cluster_column  million_miles_annually  \\\n",
       "0                  80               2                   64914   \n",
       "1                  94               0                    4593   \n",
       "2                  96               0                   59575   \n",
       "3                  95               0                   32953   \n",
       "4                  89               0                  320784   \n",
       "\n",
       "   num_drivers_fatl_column  \n",
       "0                1220.3832  \n",
       "1                  83.1333  \n",
       "2                1108.0950  \n",
       "3                 738.1472  \n",
       "4                3849.4080  "
      ]
     },
     "metadata": {},
     "output_type": "display_data"
    }
   ],
   "source": [
    "display(merged.head())"
   ]
  },
  {
   "cell_type": "code",
   "execution_count": 125,
   "id": "6aa8ebc3",
   "metadata": {},
   "outputs": [
    {
     "data": {
      "text/html": [
       "<div>\n",
       "<style scoped>\n",
       "    .dataframe tbody tr th:only-of-type {\n",
       "        vertical-align: middle;\n",
       "    }\n",
       "\n",
       "    .dataframe tbody tr th {\n",
       "        vertical-align: top;\n",
       "    }\n",
       "\n",
       "    .dataframe thead th {\n",
       "        text-align: right;\n",
       "    }\n",
       "</style>\n",
       "<table border=\"1\" class=\"dataframe\">\n",
       "  <thead>\n",
       "    <tr style=\"text-align: right;\">\n",
       "      <th></th>\n",
       "      <th>count</th>\n",
       "      <th>mean</th>\n",
       "      <th>sum</th>\n",
       "    </tr>\n",
       "    <tr>\n",
       "      <th>cluster_column</th>\n",
       "      <th></th>\n",
       "      <th></th>\n",
       "      <th></th>\n",
       "    </tr>\n",
       "  </thead>\n",
       "  <tbody>\n",
       "    <tr>\n",
       "      <th>0</th>\n",
       "      <td>22</td>\n",
       "      <td>898.378595</td>\n",
       "      <td>19764.3291</td>\n",
       "    </tr>\n",
       "    <tr>\n",
       "      <th>1</th>\n",
       "      <td>12</td>\n",
       "      <td>920.385367</td>\n",
       "      <td>11044.6244</td>\n",
       "    </tr>\n",
       "    <tr>\n",
       "      <th>2</th>\n",
       "      <td>17</td>\n",
       "      <td>872.132759</td>\n",
       "      <td>14826.2569</td>\n",
       "    </tr>\n",
       "  </tbody>\n",
       "</table>\n",
       "</div>"
      ],
      "text/plain": [
       "                count        mean         sum\n",
       "cluster_column                               \n",
       "0                  22  898.378595  19764.3291\n",
       "1                  12  920.385367  11044.6244\n",
       "2                  17  872.132759  14826.2569"
      ]
     },
     "execution_count": 125,
     "metadata": {},
     "output_type": "execute_result"
    }
   ],
   "source": [
    "basic_measures = merged.groupby('cluster_column')['num_drivers_fatl_column'].agg(['count', 'mean', 'sum'])\n",
    "basic_measures\n",
    "##seeing the basic measures like mean, sum, count in different clusters\n"
   ]
  },
  {
   "cell_type": "code",
   "execution_count": 150,
   "id": "41ddcd93",
   "metadata": {},
   "outputs": [
    {
     "data": {
      "text/plain": [
       "<AxesSubplot:xlabel='cluster_column', ylabel='num_drivers_fatl_column'>"
      ]
     },
     "execution_count": 150,
     "metadata": {},
     "output_type": "execute_result"
    },
    {
     "data": {
      "image/png": "[encoded data removed]",
      "text/plain": [
       "<Figure size 432x288 with 1 Axes>"
      ]
     },
     "metadata": {
      "needs_background": "light"
     },
     "output_type": "display_data"
    }
   ],
   "source": [
    "##total number of accidents per cluster\n",
    "sns.barplot(x='cluster_column', y='num_drivers_fatl_column', data=merged, estimator=sum, ci=None)"
   ]
  },
  {
   "cell_type": "code",
   "execution_count": 154,
   "id": "be493f30",
   "metadata": {},
   "outputs": [
    {
     "data": {
      "text/plain": [
       "0     2\n",
       "1     0\n",
       "2     0\n",
       "3     0\n",
       "4     0\n",
       "5     0\n",
       "6     2\n",
       "7     0\n",
       "8     0\n",
       "9     0\n",
       "10    0\n",
       "11    2\n",
       "12    0\n",
       "13    0\n",
       "14    0\n",
       "15    1\n",
       "16    1\n",
       "17    1\n",
       "18    0\n",
       "19    2\n",
       "20    0\n",
       "21    1\n",
       "22    1\n",
       "23    1\n",
       "24    0\n",
       "25    2\n",
       "26    2\n",
       "27    1\n",
       "28    0\n",
       "29    2\n",
       "30    1\n",
       "31    0\n",
       "32    1\n",
       "33    2\n",
       "34    2\n",
       "35    1\n",
       "36    0\n",
       "37    0\n",
       "38    2\n",
       "39    2\n",
       "40    2\n",
       "41    2\n",
       "42    1\n",
       "43    2\n",
       "44    0\n",
       "45    0\n",
       "46    1\n",
       "47    2\n",
       "48    0\n",
       "49    2\n",
       "50    2\n",
       "Name: cluster_column, dtype: int32"
      ]
     },
     "execution_count": 154,
     "metadata": {},
     "output_type": "execute_result"
    }
   ],
   "source": [
    "merged.cluster_column"
   ]
  },
  {
   "cell_type": "markdown",
   "id": "b61c8d18",
   "metadata": {},
   "source": [
    "### FINAL OBSERVATION"
   ]
  },
  {
   "cell_type": "markdown",
   "id": "ee001800",
   "metadata": {},
   "source": [
    "1. cluster 0 probably has more importance"
   ]
  },
  {
   "cell_type": "markdown",
   "id": "cf1eaffc",
   "metadata": {},
   "source": [
    "### ROUGH WORK"
   ]
  },
  {
   "cell_type": "code",
   "execution_count": 87,
   "id": "3dc7b245",
   "metadata": {},
   "outputs": [
    {
     "data": {
      "text/plain": [
       "PCA(n_components=2)"
      ]
     },
     "execution_count": 87,
     "metadata": {},
     "output_type": "execute_result"
    }
   ],
   "source": [
    "pca.fit(features_scaled)"
   ]
  },
  {
   "cell_type": "code",
   "execution_count": 88,
   "id": "ea6f86df",
   "metadata": {},
   "outputs": [
    {
     "name": "stdout",
     "output_type": "stream",
     "text": [
      "PCA(n_components=2)\n"
     ]
    }
   ],
   "source": [
    "print(pca)"
   ]
  },
  {
   "cell_type": "code",
   "execution_count": 89,
   "id": "57fa8472",
   "metadata": {},
   "outputs": [
    {
     "name": "stdout",
     "output_type": "stream",
     "text": [
      "[[ 0.53455662  0.71358084 -0.45282624]\n",
      " [-0.65077841  0.00570541 -0.75924627]]\n"
     ]
    }
   ],
   "source": [
    "print(pca.components_)"
   ]
  },
  {
   "cell_type": "code",
   "execution_count": 90,
   "id": "b6f6fb68",
   "metadata": {},
   "outputs": [
    {
     "name": "stdout",
     "output_type": "stream",
     "text": [
      "[1.39759626 1.0341792 ]\n"
     ]
    }
   ],
   "source": [
    "print(pca.explained_variance_)"
   ]
  },
  {
   "cell_type": "code",
   "execution_count": 35,
   "id": "7c8dba74",
   "metadata": {},
   "outputs": [],
   "source": [
    "x = np.random.rand(3,2)\n",
    "\n",
    " "
   ]
  },
  {
   "cell_type": "code",
   "execution_count": 37,
   "id": "834fc614",
   "metadata": {},
   "outputs": [],
   "source": [
    "\n",
    "x = x[:,1]"
   ]
  },
  {
   "cell_type": "code",
   "execution_count": 36,
   "id": "f2e74698",
   "metadata": {},
   "outputs": [
    {
     "data": {
      "text/plain": [
       "array([[0.55706465, 0.06491681],\n",
       "       [0.70815106, 0.92145323],\n",
       "       [0.78880241, 0.85969412]])"
      ]
     },
     "execution_count": 36,
     "metadata": {},
     "output_type": "execute_result"
    }
   ],
   "source": [
    "x"
   ]
  },
  {
   "cell_type": "code",
   "execution_count": 38,
   "id": "ce0525be",
   "metadata": {},
   "outputs": [
    {
     "data": {
      "text/plain": [
       "array([0.06491681, 0.92145323, 0.85969412])"
      ]
     },
     "execution_count": 38,
     "metadata": {},
     "output_type": "execute_result"
    }
   ],
   "source": [
    "x"
   ]
  },
  {
   "cell_type": "code",
   "execution_count": 32,
   "id": "fb5c0dd5",
   "metadata": {},
   "outputs": [],
   "source": [
    "x=x[:1]"
   ]
  },
  {
   "cell_type": "code",
   "execution_count": 33,
   "id": "756ef638",
   "metadata": {},
   "outputs": [
    {
     "data": {
      "text/plain": [
       "array([[0.89458421, 0.79646859]])"
      ]
     },
     "execution_count": 33,
     "metadata": {},
     "output_type": "execute_result"
    }
   ],
   "source": [
    "x"
   ]
  },
  {
   "cell_type": "code",
   "execution_count": 15,
   "id": "8abeeb22",
   "metadata": {},
   "outputs": [],
   "source": [
    "x=x[:,0]"
   ]
  },
  {
   "cell_type": "code",
   "execution_count": 16,
   "id": "4289c86e",
   "metadata": {},
   "outputs": [
    {
     "data": {
      "text/plain": [
       "array([0.47561998, 0.64251547, 0.54855972])"
      ]
     },
     "execution_count": 16,
     "metadata": {},
     "output_type": "execute_result"
    }
   ],
   "source": [
    "x"
   ]
  },
  {
   "cell_type": "code",
   "execution_count": 26,
   "id": "a1103cd9",
   "metadata": {},
   "outputs": [],
   "source": [
    "x=x[1:]"
   ]
  },
  {
   "cell_type": "code",
   "execution_count": 27,
   "id": "34be88e5",
   "metadata": {},
   "outputs": [
    {
     "data": {
      "text/plain": [
       "array([[0.13825225, 0.75988321],\n",
       "       [0.84450159, 0.70411968]])"
      ]
     },
     "execution_count": 27,
     "metadata": {},
     "output_type": "execute_result"
    }
   ],
   "source": [
    "x"
   ]
  },
  {
   "cell_type": "code",
   "execution_count": 39,
   "id": "416c853a",
   "metadata": {},
   "outputs": [],
   "source": [
    "y= np.random.rand(3,2)"
   ]
  },
  {
   "cell_type": "code",
   "execution_count": 40,
   "id": "5460dd15",
   "metadata": {},
   "outputs": [
    {
     "data": {
      "text/plain": [
       "array([[0.40983405, 0.2401772 ],\n",
       "       [0.8848098 , 0.28624525],\n",
       "       [0.11412552, 0.87415713]])"
      ]
     },
     "execution_count": 40,
     "metadata": {},
     "output_type": "execute_result"
    }
   ],
   "source": [
    "y"
   ]
  },
  {
   "cell_type": "code",
   "execution_count": 41,
   "id": "51984ccb",
   "metadata": {},
   "outputs": [],
   "source": [
    "z=y[:,1]"
   ]
  },
  {
   "cell_type": "code",
   "execution_count": 42,
   "id": "14f30997",
   "metadata": {},
   "outputs": [
    {
     "data": {
      "text/plain": [
       "array([0.2401772 , 0.28624525, 0.87415713])"
      ]
     },
     "execution_count": 42,
     "metadata": {},
     "output_type": "execute_result"
    }
   ],
   "source": [
    "z"
   ]
  },
  {
   "cell_type": "code",
   "execution_count": 43,
   "id": "165e4517",
   "metadata": {},
   "outputs": [],
   "source": [
    "g=y[:1]"
   ]
  },
  {
   "cell_type": "code",
   "execution_count": 44,
   "id": "0198f7f3",
   "metadata": {},
   "outputs": [
    {
     "data": {
      "text/plain": [
       "array([[0.40983405, 0.2401772 ]])"
      ]
     },
     "execution_count": 44,
     "metadata": {},
     "output_type": "execute_result"
    }
   ],
   "source": [
    "g"
   ]
  },
  {
   "cell_type": "code",
   "execution_count": 45,
   "id": "484e8b31",
   "metadata": {},
   "outputs": [],
   "source": [
    "q=y[1:]"
   ]
  },
  {
   "cell_type": "code",
   "execution_count": 46,
   "id": "975323cd",
   "metadata": {},
   "outputs": [
    {
     "data": {
      "text/plain": [
       "array([[0.8848098 , 0.28624525],\n",
       "       [0.11412552, 0.87415713]])"
      ]
     },
     "execution_count": 46,
     "metadata": {},
     "output_type": "execute_result"
    }
   ],
   "source": [
    "q"
   ]
  },
  {
   "cell_type": "code",
   "execution_count": 47,
   "id": "5d28e04a",
   "metadata": {},
   "outputs": [],
   "source": [
    "f=y[1,:]"
   ]
  },
  {
   "cell_type": "code",
   "execution_count": 48,
   "id": "548144f6",
   "metadata": {},
   "outputs": [
    {
     "data": {
      "text/plain": [
       "array([0.8848098 , 0.28624525])"
      ]
     },
     "execution_count": 48,
     "metadata": {},
     "output_type": "execute_result"
    }
   ],
   "source": [
    "f"
   ]
  }
 ],
 "metadata": {
  "kernelspec": {
   "display_name": "Python 3",
   "language": "python",
   "name": "python3"
  },
  "language_info": {
   "codemirror_mode": {
    "name": "ipython",
    "version": 3
   },
   "file_extension": ".py",
   "mimetype": "text/x-python",
   "name": "python",
   "nbconvert_exporter": "python",
   "pygments_lexer": "ipython3",
   "version": "3.8.8"
  }
 },
 "nbformat": 4,
 "nbformat_minor": 5
}
